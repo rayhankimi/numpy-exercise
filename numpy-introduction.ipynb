{
 "cells": [
  {
   "cell_type": "code",
   "execution_count": 2,
   "id": "9b7e3d2c-ee2f-4d05-8be4-df81a1da260e",
   "metadata": {},
   "outputs": [],
   "source": [
    "import numpy as np"
   ]
  },
  {
   "cell_type": "markdown",
   "id": "bd1f9bc0-f9b0-4135-b024-6e78b2cbb113",
   "metadata": {
    "jp-MarkdownHeadingCollapsed": true
   },
   "source": [
    "## Permulaan"
   ]
  },
  {
   "cell_type": "markdown",
   "id": "52a91bbe-bf7e-44b5-aaed-2a7d5302da42",
   "metadata": {},
   "source": [
    "Datatypes & Attribute"
   ]
  },
  {
   "cell_type": "code",
   "execution_count": 21,
   "id": "b16e2f9a-1bca-4f24-92c4-409bece103f6",
   "metadata": {},
   "outputs": [
    {
     "data": {
      "text/plain": [
       "array([1, 2, 3])"
      ]
     },
     "execution_count": 21,
     "metadata": {},
     "output_type": "execute_result"
    }
   ],
   "source": [
    "#ndarray N - Dimension array\n",
    "\n",
    "#(Dimensinya adalah 1,3)\n",
    "a1 = np.array([1,2,3])\n",
    "a1"
   ]
  },
  {
   "cell_type": "code",
   "execution_count": 22,
   "id": "bf4114cd-0276-4267-bdf3-0fcace5c1628",
   "metadata": {},
   "outputs": [
    {
     "data": {
      "text/plain": [
       "numpy.ndarray"
      ]
     },
     "execution_count": 22,
     "metadata": {},
     "output_type": "execute_result"
    }
   ],
   "source": [
    "type(a1)"
   ]
  },
  {
   "cell_type": "code",
   "execution_count": 23,
   "id": "f7774404-559b-489a-8d6f-aad738b95543",
   "metadata": {},
   "outputs": [],
   "source": [
    "#Dimensi 2,3\n",
    "a2 = np.array([[1,2,3],\n",
    "              [4,5,6]])\n",
    "\n",
    "#Dimensi 2,3,3\n",
    "a3 = np.array([[[1,2,3],\n",
    "                [4,5,6],\n",
    "                [7,8,9]],\n",
    "               [[9,10,11],\n",
    "               [12,13,14],\n",
    "               [16,17,18]]])"
   ]
  },
  {
   "cell_type": "markdown",
   "id": "c3bc2fc7-ec09-478a-bfc8-b43e57e8900a",
   "metadata": {},
   "source": [
    "Dimensi Array\n",
    "\n"
   ]
  },
  {
   "cell_type": "code",
   "execution_count": 24,
   "id": "5d1d48a6-c416-4970-997d-814e22da2f9d",
   "metadata": {},
   "outputs": [
    {
     "data": {
      "text/plain": [
       "(3,)"
      ]
     },
     "execution_count": 24,
     "metadata": {},
     "output_type": "execute_result"
    }
   ],
   "source": [
    "a1.shape"
   ]
  },
  {
   "cell_type": "code",
   "execution_count": 25,
   "id": "0095ed13-793c-4367-bafb-5eb2176942ce",
   "metadata": {},
   "outputs": [
    {
     "data": {
      "text/plain": [
       "(2, 3)"
      ]
     },
     "execution_count": 25,
     "metadata": {},
     "output_type": "execute_result"
    }
   ],
   "source": [
    "a2.shape"
   ]
  },
  {
   "cell_type": "code",
   "execution_count": 45,
   "id": "5e082420-4267-43af-a39c-cda5ccbe8454",
   "metadata": {},
   "outputs": [
    {
     "data": {
      "text/plain": [
       "(2, 3, 3)"
      ]
     },
     "execution_count": 45,
     "metadata": {},
     "output_type": "execute_result"
    }
   ],
   "source": [
    "a3.shape"
   ]
  },
  {
   "cell_type": "code",
   "execution_count": 46,
   "id": "aae5b917-0e1c-42e6-9fe4-22cad10300a1",
   "metadata": {},
   "outputs": [
    {
     "data": {
      "text/plain": [
       "(1, 2, 3)"
      ]
     },
     "execution_count": 46,
     "metadata": {},
     "output_type": "execute_result"
    }
   ],
   "source": [
    "a1.ndim, a2.ndim, a3.ndim #"
   ]
  },
  {
   "cell_type": "markdown",
   "id": "a6b07c92-f80d-4b2c-a2e0-c4d4245a3586",
   "metadata": {},
   "source": [
    "Datatype & Size"
   ]
  },
  {
   "cell_type": "code",
   "execution_count": 50,
   "id": "0862392b-d8de-4b73-80c2-20bc78cfe5b8",
   "metadata": {},
   "outputs": [
    {
     "data": {
      "text/plain": [
       "(dtype('int64'), dtype('int64'), dtype('int64'))"
      ]
     },
     "execution_count": 50,
     "metadata": {},
     "output_type": "execute_result"
    }
   ],
   "source": [
    "a1.dtype, a2.dtype, a3.dtype"
   ]
  },
  {
   "cell_type": "code",
   "execution_count": 51,
   "id": "9b47e079-b6a6-4833-b94c-d2c850d2ffea",
   "metadata": {},
   "outputs": [
    {
     "data": {
      "text/plain": [
       "(3, 6, 18)"
      ]
     },
     "execution_count": 51,
     "metadata": {},
     "output_type": "execute_result"
    }
   ],
   "source": [
    "a1.size, a2.size, a3.size"
   ]
  },
  {
   "cell_type": "markdown",
   "id": "0d02ef0e-2b82-4cf7-acc7-21af71324c1e",
   "metadata": {},
   "source": [
    "Menggunakan pandas untuk membuat array menjadi dataframe"
   ]
  },
  {
   "cell_type": "code",
   "execution_count": 53,
   "id": "5ccad2a6-f97e-40ad-a251-66254640a10a",
   "metadata": {},
   "outputs": [
    {
     "data": {
      "text/html": [
       "<div>\n",
       "<style scoped>\n",
       "    .dataframe tbody tr th:only-of-type {\n",
       "        vertical-align: middle;\n",
       "    }\n",
       "\n",
       "    .dataframe tbody tr th {\n",
       "        vertical-align: top;\n",
       "    }\n",
       "\n",
       "    .dataframe thead th {\n",
       "        text-align: right;\n",
       "    }\n",
       "</style>\n",
       "<table border=\"1\" class=\"dataframe\">\n",
       "  <thead>\n",
       "    <tr style=\"text-align: right;\">\n",
       "      <th></th>\n",
       "      <th>0</th>\n",
       "    </tr>\n",
       "  </thead>\n",
       "  <tbody>\n",
       "    <tr>\n",
       "      <th>0</th>\n",
       "      <td>1</td>\n",
       "    </tr>\n",
       "    <tr>\n",
       "      <th>1</th>\n",
       "      <td>2</td>\n",
       "    </tr>\n",
       "    <tr>\n",
       "      <th>2</th>\n",
       "      <td>3</td>\n",
       "    </tr>\n",
       "  </tbody>\n",
       "</table>\n",
       "</div>"
      ],
      "text/plain": [
       "   0\n",
       "0  1\n",
       "1  2\n",
       "2  3"
      ]
     },
     "execution_count": 53,
     "metadata": {},
     "output_type": "execute_result"
    }
   ],
   "source": [
    "import pandas as pd\n",
    "\n",
    "df1 = pd.DataFrame(a1)\n",
    "df1"
   ]
  },
  {
   "cell_type": "code",
   "execution_count": 54,
   "id": "0d71da47-0ed1-4bf6-8f92-2692955045cc",
   "metadata": {},
   "outputs": [
    {
     "data": {
      "text/html": [
       "<div>\n",
       "<style scoped>\n",
       "    .dataframe tbody tr th:only-of-type {\n",
       "        vertical-align: middle;\n",
       "    }\n",
       "\n",
       "    .dataframe tbody tr th {\n",
       "        vertical-align: top;\n",
       "    }\n",
       "\n",
       "    .dataframe thead th {\n",
       "        text-align: right;\n",
       "    }\n",
       "</style>\n",
       "<table border=\"1\" class=\"dataframe\">\n",
       "  <thead>\n",
       "    <tr style=\"text-align: right;\">\n",
       "      <th></th>\n",
       "      <th>0</th>\n",
       "      <th>1</th>\n",
       "      <th>2</th>\n",
       "    </tr>\n",
       "  </thead>\n",
       "  <tbody>\n",
       "    <tr>\n",
       "      <th>0</th>\n",
       "      <td>1</td>\n",
       "      <td>2</td>\n",
       "      <td>3</td>\n",
       "    </tr>\n",
       "    <tr>\n",
       "      <th>1</th>\n",
       "      <td>4</td>\n",
       "      <td>5</td>\n",
       "      <td>6</td>\n",
       "    </tr>\n",
       "  </tbody>\n",
       "</table>\n",
       "</div>"
      ],
      "text/plain": [
       "   0  1  2\n",
       "0  1  2  3\n",
       "1  4  5  6"
      ]
     },
     "execution_count": 54,
     "metadata": {},
     "output_type": "execute_result"
    }
   ],
   "source": [
    "df2 = pd.DataFrame(a2)\n",
    "df2\n"
   ]
  },
  {
   "cell_type": "code",
   "execution_count": 58,
   "id": "15d79c8c-b726-4ffb-860c-b55af1198ab0",
   "metadata": {},
   "outputs": [
    {
     "name": "stdout",
     "output_type": "stream",
     "text": [
      "Nggak bisa 3 dimensional array jadi DataFrame bro\n"
     ]
    }
   ],
   "source": [
    "try:\n",
    "    df3 = pd.DataFrame(a3)\n",
    "    df3 # 3 Dimensi nggak bisa\n",
    "except ValueError:\n",
    "    print(\"Nggak bisa 3 dimensional array jadi DataFrame bro\")"
   ]
  },
  {
   "cell_type": "markdown",
   "id": "c76eee63-4657-440d-b445-ed7741811083",
   "metadata": {
    "jp-MarkdownHeadingCollapsed": true
   },
   "source": [
    "## Membuat Arrays"
   ]
  },
  {
   "cell_type": "code",
   "execution_count": 61,
   "id": "90fb8778-d4e4-419b-8ac9-827138f1bf59",
   "metadata": {},
   "outputs": [
    {
     "data": {
      "text/plain": [
       "array([1, 2, 3])"
      ]
     },
     "execution_count": 61,
     "metadata": {},
     "output_type": "execute_result"
    }
   ],
   "source": [
    "sample_array = np.array([1,2,3])\n",
    "sample_array"
   ]
  },
  {
   "cell_type": "markdown",
   "id": "d569fad1-b6d8-4e51-861c-b25bd9865fbc",
   "metadata": {},
   "source": [
    "Buat array otomatis"
   ]
  },
  {
   "cell_type": "code",
   "execution_count": 67,
   "id": "c476dc45-3691-4c7d-bf7c-41bf0f33e267",
   "metadata": {},
   "outputs": [
    {
     "data": {
      "text/plain": [
       "array([[1., 1., 1.],\n",
       "       [1., 1., 1.]])"
      ]
     },
     "execution_count": 67,
     "metadata": {},
     "output_type": "execute_result"
    }
   ],
   "source": [
    "#Shift Tab = Penjelasan Function\n",
    "ones = np.ones((2,3))    #Maksudnya buat 2x3 array diisi dengan 1. (float)\n",
    "ones"
   ]
  },
  {
   "cell_type": "code",
   "execution_count": 63,
   "id": "47b1e4ce-4c9f-4849-9a9a-7756833f5f4b",
   "metadata": {},
   "outputs": [
    {
     "data": {
      "text/plain": [
       "array([[0., 0., 0.],\n",
       "       [0., 0., 0.]])"
      ]
     },
     "execution_count": 63,
     "metadata": {},
     "output_type": "execute_result"
    }
   ],
   "source": [
    "zeros = np.zeros((2,3))\n",
    "zeros"
   ]
  },
  {
   "cell_type": "code",
   "execution_count": 64,
   "id": "f35bdedc-693d-4bda-a60a-9f4213e6f50c",
   "metadata": {},
   "outputs": [
    {
     "data": {
      "text/plain": [
       "array([0, 2, 4, 6, 8])"
      ]
     },
     "execution_count": 64,
     "metadata": {},
     "output_type": "execute_result"
    }
   ],
   "source": [
    "range_array = np.arange(0, 10, 2) #(start,stop,step)\n",
    "range_array"
   ]
  },
  {
   "cell_type": "markdown",
   "id": "913c2e66-3087-4526-856c-a43dbe70795c",
   "metadata": {},
   "source": [
    "Buat array random (walau sebenarnya nggak bes random sih"
   ]
  },
  {
   "cell_type": "code",
   "execution_count": 65,
   "id": "6dab6612-63b4-450a-85fd-adf92f7f8d2b",
   "metadata": {},
   "outputs": [
    {
     "data": {
      "text/plain": [
       "array([[8, 9, 3, 1, 4],\n",
       "       [4, 0, 0, 5, 1],\n",
       "       [8, 4, 2, 8, 7]])"
      ]
     },
     "execution_count": 65,
     "metadata": {},
     "output_type": "execute_result"
    }
   ],
   "source": [
    "random_array = np.random.randint(0,10, size=(3,5))  #Angkanya acak dari 0 - 10, dengan size array 3x5\n",
    "random_array"
   ]
  },
  {
   "cell_type": "code",
   "execution_count": 4,
   "id": "85f1ae11-b9c4-402d-bea9-8a1c5662b39b",
   "metadata": {},
   "outputs": [
    {
     "data": {
      "text/plain": [
       "array([[0.62620155, 0.47283902, 0.68054293],\n",
       "       [0.47252841, 0.94505457, 0.87384453],\n",
       "       [0.77695033, 0.63014846, 0.76746769],\n",
       "       [0.36350944, 0.55858116, 0.0673983 ],\n",
       "       [0.95075709, 0.74344061, 0.1920593 ]])"
      ]
     },
     "execution_count": 4,
     "metadata": {},
     "output_type": "execute_result"
    }
   ],
   "source": [
    "random_array2 = np.random.random((5,3)) #Angkanya hanya antara 0 dan 1, dengan size array 5x3\n",
    "random_array2"
   ]
  },
  {
   "cell_type": "code",
   "execution_count": 16,
   "id": "0ba37d90-4382-4004-8859-9d70ba85de34",
   "metadata": {},
   "outputs": [
    {
     "data": {
      "text/plain": [
       "array([[8, 9, 3, 8],\n",
       "       [8, 0, 5, 3],\n",
       "       [9, 9, 5, 7],\n",
       "       [6, 0, 4, 7],\n",
       "       [8, 1, 6, 2]])"
      ]
     },
     "execution_count": 16,
     "metadata": {},
     "output_type": "execute_result"
    }
   ],
   "source": [
    "#Pseudo random (kayak Minecraft)\n",
    "np.random.seed(3)\n",
    "random_array4 = np.random.randint(10, size=(5,4))\n",
    "random_array4\n",
    "#soalnya kalau random bakal random terus, kita kyak ibaratnya set seednya gitu kayak di world minecraft"
   ]
  },
  {
   "cell_type": "code",
   "execution_count": 18,
   "id": "87e3a034-e736-41d8-83d5-8635df02b7cb",
   "metadata": {},
   "outputs": [
    {
     "data": {
      "text/plain": [
       "array([[0.89448004, 0.83468249, 0.2072088 ],\n",
       "       [0.25001994, 0.04870067, 0.41560137],\n",
       "       [0.1163066 , 0.62180343, 0.92031563],\n",
       "       [0.8158183 , 0.91150712, 0.52986286],\n",
       "       [0.60494389, 0.50144037, 0.05964344]])"
      ]
     },
     "execution_count": 18,
     "metadata": {},
     "output_type": "execute_result"
    }
   ],
   "source": [
    "np.random.seed(199093093)\n",
    "random_array5 = np.random.random((5,3))\n",
    "random_array5"
   ]
  },
  {
   "cell_type": "markdown",
   "id": "8f8a6f46-b300-40d2-93be-f3d343ebe446",
   "metadata": {
    "jp-MarkdownHeadingCollapsed": true
   },
   "source": [
    "## Melihat array dan matrix"
   ]
  },
  {
   "cell_type": "code",
   "execution_count": 20,
   "id": "c7bb8926-c24f-424c-bf0d-c81a6477aadb",
   "metadata": {},
   "outputs": [
    {
     "data": {
      "text/plain": [
       "array([0, 1, 2, 3, 4, 5, 6, 7, 8, 9])"
      ]
     },
     "execution_count": 20,
     "metadata": {},
     "output_type": "execute_result"
    }
   ],
   "source": [
    "np.unique(random_array4) #melihat angka angka yang unik"
   ]
  },
  {
   "cell_type": "code",
   "execution_count": 26,
   "id": "aa116909-e0b1-4e45-aaa3-f607037dc807",
   "metadata": {},
   "outputs": [
    {
     "data": {
      "text/plain": [
       "array([1, 2, 3])"
      ]
     },
     "execution_count": 26,
     "metadata": {},
     "output_type": "execute_result"
    }
   ],
   "source": [
    "#Kembali lagi ke a1 a2 dan a3\n",
    "a1"
   ]
  },
  {
   "cell_type": "code",
   "execution_count": 27,
   "id": "31fb5073-adc3-4cdb-8718-b7a0c935ce53",
   "metadata": {},
   "outputs": [
    {
     "data": {
      "text/plain": [
       "array([[1, 2, 3],\n",
       "       [4, 5, 6]])"
      ]
     },
     "execution_count": 27,
     "metadata": {},
     "output_type": "execute_result"
    }
   ],
   "source": [
    "a2"
   ]
  },
  {
   "cell_type": "code",
   "execution_count": 28,
   "id": "ae997076-87d7-4e26-8445-332b701da393",
   "metadata": {},
   "outputs": [
    {
     "data": {
      "text/plain": [
       "array([[[ 1,  2,  3],\n",
       "        [ 4,  5,  6],\n",
       "        [ 7,  8,  9]],\n",
       "\n",
       "       [[ 9, 10, 11],\n",
       "        [12, 13, 14],\n",
       "        [16, 17, 18]]])"
      ]
     },
     "execution_count": 28,
     "metadata": {},
     "output_type": "execute_result"
    }
   ],
   "source": [
    "a3"
   ]
  },
  {
   "cell_type": "markdown",
   "id": "c762e183-fab5-4c41-8523-45c101ba247e",
   "metadata": {
    "jp-MarkdownHeadingCollapsed": true
   },
   "source": [
    "### Melihat matrix dengan enak"
   ]
  },
  {
   "cell_type": "code",
   "execution_count": 29,
   "id": "3583e952-cae8-4a30-b7f4-36cf7224b75d",
   "metadata": {},
   "outputs": [
    {
     "data": {
      "text/plain": [
       "1"
      ]
     },
     "execution_count": 29,
     "metadata": {},
     "output_type": "execute_result"
    }
   ],
   "source": [
    "a1[0]"
   ]
  },
  {
   "cell_type": "code",
   "execution_count": 30,
   "id": "2d8c28c5-31a5-404e-b772-3e43c31dd657",
   "metadata": {},
   "outputs": [
    {
     "data": {
      "text/plain": [
       "array([1, 2, 3])"
      ]
     },
     "execution_count": 30,
     "metadata": {},
     "output_type": "execute_result"
    }
   ],
   "source": [
    "a2[0]"
   ]
  },
  {
   "cell_type": "code",
   "execution_count": 31,
   "id": "e09064ab-49b1-4ba6-aca5-bae4a5aaf79b",
   "metadata": {},
   "outputs": [
    {
     "data": {
      "text/plain": [
       "array([[1, 2, 3],\n",
       "       [4, 5, 6],\n",
       "       [7, 8, 9]])"
      ]
     },
     "execution_count": 31,
     "metadata": {},
     "output_type": "execute_result"
    }
   ],
   "source": [
    "a3[0]"
   ]
  },
  {
   "cell_type": "code",
   "execution_count": 32,
   "id": "a9218104-78ec-443d-a38d-d90c546e326d",
   "metadata": {},
   "outputs": [
    {
     "data": {
      "text/plain": [
       "(2, 3, 3)"
      ]
     },
     "execution_count": 32,
     "metadata": {},
     "output_type": "execute_result"
    }
   ],
   "source": [
    "a3.shape"
   ]
  },
  {
   "cell_type": "code",
   "execution_count": 34,
   "id": "adc8e3cd-912f-48dd-8c3f-3574e4a5e3b8",
   "metadata": {},
   "outputs": [
    {
     "data": {
      "text/plain": [
       "1"
      ]
     },
     "execution_count": 34,
     "metadata": {},
     "output_type": "execute_result"
    }
   ],
   "source": [
    "#Untuk lokasi yang sangat spesifik, ingat2 shapenya, lalu coba cek lokasinya\n",
    "#INGAT INI PYTHON, DIMULAI DARI 0 BUKAN 1\n",
    "a3[0,0,0]"
   ]
  },
  {
   "cell_type": "code",
   "execution_count": 36,
   "id": "81661b48-3128-4ff2-8334-66349c576eb2",
   "metadata": {},
   "outputs": [
    {
     "data": {
      "text/plain": [
       "18"
      ]
     },
     "execution_count": 36,
     "metadata": {},
     "output_type": "execute_result"
    }
   ],
   "source": [
    "a3[1,2,2]"
   ]
  },
  {
   "cell_type": "code",
   "execution_count": 37,
   "id": "8a9e3847-309e-4060-9640-289033461eb9",
   "metadata": {},
   "outputs": [
    {
     "data": {
      "text/plain": [
       "array([[[ 1,  2,  3],\n",
       "        [ 4,  5,  6],\n",
       "        [ 7,  8,  9]],\n",
       "\n",
       "       [[ 9, 10, 11],\n",
       "        [12, 13, 14],\n",
       "        [16, 17, 18]]])"
      ]
     },
     "execution_count": 37,
     "metadata": {},
     "output_type": "execute_result"
    }
   ],
   "source": [
    "a3"
   ]
  },
  {
   "cell_type": "code",
   "execution_count": 38,
   "id": "cf8cbf6d-50cd-41ea-9ca7-a6b7ae32b859",
   "metadata": {},
   "outputs": [
    {
     "data": {
      "text/plain": [
       "array([[[ 1,  2],\n",
       "        [ 4,  5]],\n",
       "\n",
       "       [[ 9, 10],\n",
       "        [12, 13]]])"
      ]
     },
     "execution_count": 38,
     "metadata": {},
     "output_type": "execute_result"
    }
   ],
   "source": [
    "a3[:2, :2 , :2] # Ingat : itu untuk slice, artinya kita lihat 2 angka pertama"
   ]
  },
  {
   "cell_type": "code",
   "execution_count": 39,
   "id": "36a93d52-986a-4f62-9c52-0a021de8ffef",
   "metadata": {},
   "outputs": [
    {
     "data": {
      "text/plain": [
       "array([[[[0, 7, 5, 1, 4],\n",
       "         [4, 7, 5, 7, 1],\n",
       "         [6, 8, 5, 5, 7],\n",
       "         [9, 1, 5, 6, 2]],\n",
       "\n",
       "        [[7, 4, 6, 1, 7],\n",
       "         [5, 1, 2, 8, 3],\n",
       "         [3, 1, 9, 0, 3],\n",
       "         [7, 3, 6, 6, 7]],\n",
       "\n",
       "        [[6, 9, 7, 4, 3],\n",
       "         [5, 0, 6, 1, 0],\n",
       "         [1, 1, 4, 8, 3],\n",
       "         [9, 3, 0, 6, 3]]],\n",
       "\n",
       "\n",
       "       [[[3, 3, 7, 1, 8],\n",
       "         [4, 5, 8, 4, 7],\n",
       "         [4, 9, 1, 8, 8],\n",
       "         [3, 1, 3, 8, 7]],\n",
       "\n",
       "        [[9, 3, 1, 8, 4],\n",
       "         [1, 2, 4, 4, 9],\n",
       "         [9, 3, 9, 9, 7],\n",
       "         [6, 2, 5, 7, 1]],\n",
       "\n",
       "        [[0, 9, 6, 6, 7],\n",
       "         [5, 7, 3, 1, 7],\n",
       "         [7, 6, 7, 7, 8],\n",
       "         [9, 2, 3, 9, 5]]]])"
      ]
     },
     "execution_count": 39,
     "metadata": {},
     "output_type": "execute_result"
    }
   ],
   "source": [
    "#mencari dengan teliti di lautan angka pada array dimensi tinggi\n",
    "a4 = np.random.randint(10, size=(2,3,4,5))\n",
    "a4"
   ]
  },
  {
   "cell_type": "code",
   "execution_count": 42,
   "id": "7de31440-adc9-4f81-b661-d1cf0c1eb83e",
   "metadata": {},
   "outputs": [
    {
     "data": {
      "text/plain": [
       "((2, 3, 4, 5), 4)"
      ]
     },
     "execution_count": 42,
     "metadata": {},
     "output_type": "execute_result"
    }
   ],
   "source": [
    "a4.shape, a4.ndim"
   ]
  },
  {
   "cell_type": "code",
   "execution_count": 44,
   "id": "12f1496a-460f-4f79-9449-01d94fcf8dc0",
   "metadata": {},
   "outputs": [
    {
     "data": {
      "text/plain": [
       "array([[9, 3, 1, 8, 4],\n",
       "       [1, 2, 4, 4, 9],\n",
       "       [9, 3, 9, 9, 7]])"
      ]
     },
     "execution_count": 44,
     "metadata": {},
     "output_type": "execute_result"
    }
   ],
   "source": [
    "a4[1,1,:3]"
   ]
  },
  {
   "cell_type": "markdown",
   "id": "a91a7087-547f-4b30-8047-defc2e61f0b8",
   "metadata": {
    "jp-MarkdownHeadingCollapsed": true
   },
   "source": [
    "## Aritmatika"
   ]
  },
  {
   "cell_type": "code",
   "execution_count": 45,
   "id": "47638a5e-3ab6-416d-ba5d-31ca5fb4a5b3",
   "metadata": {},
   "outputs": [
    {
     "data": {
      "text/plain": [
       "array([1, 2, 3])"
      ]
     },
     "execution_count": 45,
     "metadata": {},
     "output_type": "execute_result"
    }
   ],
   "source": [
    "a1"
   ]
  },
  {
   "cell_type": "code",
   "execution_count": 47,
   "id": "d1dd9e8b-b281-499b-9efb-c9f004358cf1",
   "metadata": {},
   "outputs": [
    {
     "data": {
      "text/plain": [
       "array([1., 1., 1.])"
      ]
     },
     "execution_count": 47,
     "metadata": {},
     "output_type": "execute_result"
    }
   ],
   "source": [
    "ones = np.ones(3)\n",
    "ones"
   ]
  },
  {
   "cell_type": "code",
   "execution_count": 52,
   "id": "eab475eb-e78f-472e-a0a4-533f25715010",
   "metadata": {},
   "outputs": [
    {
     "data": {
      "text/plain": [
       "array([3., 4., 5.])"
      ]
     },
     "execution_count": 52,
     "metadata": {},
     "output_type": "execute_result"
    }
   ],
   "source": [
    "# Pertambahan (pengurangan berlaku sama)\n",
    "a1 = a1 + ones\n",
    "a1"
   ]
  },
  {
   "cell_type": "code",
   "execution_count": 55,
   "id": "dfcb4ff7-dca0-42b7-b6e1-c6a35dcfe81b",
   "metadata": {},
   "outputs": [
    {
     "data": {
      "text/plain": [
       "array([192., 256., 320.])"
      ]
     },
     "execution_count": 55,
     "metadata": {},
     "output_type": "execute_result"
    }
   ],
   "source": [
    "# Perkalian\n",
    "ones = ones + ones\n",
    "a1 = a1 * ones\n",
    "a1"
   ]
  },
  {
   "cell_type": "code",
   "execution_count": 56,
   "id": "497232a4-32c4-477b-9aa7-61a1dbf30d1f",
   "metadata": {},
   "outputs": [
    {
     "data": {
      "text/plain": [
       "array([[ 192.,  512.,  960.],\n",
       "       [ 768., 1280., 1920.]])"
      ]
     },
     "execution_count": 56,
     "metadata": {},
     "output_type": "execute_result"
    }
   ],
   "source": [
    "a1 * a2 "
   ]
  },
  {
   "cell_type": "code",
   "execution_count": 59,
   "id": "e5e072eb-7055-44bd-8641-980c1f87d4ad",
   "metadata": {},
   "outputs": [
    {
     "name": "stdout",
     "output_type": "stream",
     "text": [
      "Shapenya nggak didukung (baca numpy broadcasting untuk lebih lanjut)\n"
     ]
    }
   ],
   "source": [
    "try:\n",
    "    a2*a3\n",
    "except ValueError:\n",
    "    print(\"Shapenya nggak didukung (baca numpy broadcasting untuk lebih lanjut)\")"
   ]
  },
  {
   "cell_type": "code",
   "execution_count": 60,
   "id": "4b6dbf1d-beae-45ff-9f0a-18dd53825d98",
   "metadata": {},
   "outputs": [
    {
     "data": {
      "text/plain": [
       "array([[0.00520833, 0.0078125 , 0.009375  ],\n",
       "       [0.02083333, 0.01953125, 0.01875   ]])"
      ]
     },
     "execution_count": 60,
     "metadata": {},
     "output_type": "execute_result"
    }
   ],
   "source": [
    "a2 / a1"
   ]
  },
  {
   "cell_type": "code",
   "execution_count": 61,
   "id": "8e1521ed-a199-44ce-981d-1dd49da1ac7d",
   "metadata": {},
   "outputs": [
    {
     "data": {
      "text/plain": [
       "array([[0., 0., 0.],\n",
       "       [0., 0., 0.]])"
      ]
     },
     "execution_count": 61,
     "metadata": {},
     "output_type": "execute_result"
    }
   ],
   "source": [
    "#rounded , pakai //\n",
    "a2 // a1"
   ]
  },
  {
   "cell_type": "code",
   "execution_count": 62,
   "id": "28963c3d-95ea-4938-98da-9e129e5624dc",
   "metadata": {},
   "outputs": [
    {
     "data": {
      "text/plain": [
       "array([[ 1,  4,  9],\n",
       "       [16, 25, 36]])"
      ]
     },
     "execution_count": 62,
     "metadata": {},
     "output_type": "execute_result"
    }
   ],
   "source": [
    "a2 ** 2 #Pangkat"
   ]
  },
  {
   "cell_type": "code",
   "execution_count": 63,
   "id": "1a0e372f-01b1-42e1-b994-783e5f21e244",
   "metadata": {},
   "outputs": [
    {
     "data": {
      "text/plain": [
       "array([[ 1,  4,  9],\n",
       "       [16, 25, 36]])"
      ]
     },
     "execution_count": 63,
     "metadata": {},
     "output_type": "execute_result"
    }
   ],
   "source": [
    "#atau\n",
    "np.square(a2)"
   ]
  },
  {
   "cell_type": "code",
   "execution_count": 64,
   "id": "f7f1970d-7324-4daf-9f72-d79d34da7984",
   "metadata": {},
   "outputs": [
    {
     "data": {
      "text/plain": [
       "array([[ 9., 10., 11.],\n",
       "       [12., 13., 14.]])"
      ]
     },
     "execution_count": 64,
     "metadata": {},
     "output_type": "execute_result"
    }
   ],
   "source": [
    "#np buat tambah\n",
    "np.add(a2, ones)"
   ]
  },
  {
   "cell_type": "code",
   "execution_count": 66,
   "id": "6fee0d9a-89f5-4fdf-b628-73f7ef1c80ee",
   "metadata": {},
   "outputs": [
    {
     "data": {
      "text/plain": [
       "array([[0., 0., 2.],\n",
       "       [0., 3., 2.]])"
      ]
     },
     "execution_count": 66,
     "metadata": {},
     "output_type": "execute_result"
    }
   ],
   "source": [
    "ones % a2 #Sisa bagi"
   ]
  },
  {
   "cell_type": "code",
   "execution_count": 67,
   "id": "209af829-59d4-48ff-abf8-a0b41415e01c",
   "metadata": {},
   "outputs": [
    {
     "data": {
      "text/plain": [
       "array([[  2.71828183,   7.3890561 ,  20.08553692],\n",
       "       [ 54.59815003, 148.4131591 , 403.42879349]])"
      ]
     },
     "execution_count": 67,
     "metadata": {},
     "output_type": "execute_result"
    }
   ],
   "source": [
    "np.exp(a2) #exponensial"
   ]
  },
  {
   "cell_type": "code",
   "execution_count": 68,
   "id": "e981c2d8-93be-468d-8291-39b6484bea62",
   "metadata": {},
   "outputs": [
    {
     "data": {
      "text/plain": [
       "array([[0.        , 0.69314718, 1.09861229],\n",
       "       [1.38629436, 1.60943791, 1.79175947]])"
      ]
     },
     "execution_count": 68,
     "metadata": {},
     "output_type": "execute_result"
    }
   ],
   "source": [
    "np.log(a2)"
   ]
  },
  {
   "cell_type": "code",
   "execution_count": 69,
   "id": "f1b08572-f673-44c1-8855-e68846baf03c",
   "metadata": {},
   "outputs": [
    {
     "data": {
      "text/plain": [
       "array([[1, 2, 3],\n",
       "       [4, 5, 6]])"
      ]
     },
     "execution_count": 69,
     "metadata": {},
     "output_type": "execute_result"
    }
   ],
   "source": [
    "a2"
   ]
  },
  {
   "cell_type": "markdown",
   "id": "8a0f9f00-4420-45c3-bd02-1322cc656b18",
   "metadata": {
    "jp-MarkdownHeadingCollapsed": true
   },
   "source": [
    "## Agregasi"
   ]
  },
  {
   "cell_type": "code",
   "execution_count": 70,
   "id": "17cee8e3-37b3-4d9c-b019-6b7fbbfab5a9",
   "metadata": {},
   "outputs": [
    {
     "data": {
      "text/plain": [
       "[1, 2, 3]"
      ]
     },
     "execution_count": 70,
     "metadata": {},
     "output_type": "execute_result"
    }
   ],
   "source": [
    "list1 = [1,2,3]\n",
    "list1"
   ]
  },
  {
   "cell_type": "code",
   "execution_count": 71,
   "id": "ef552581-66fc-4936-b7da-3c555edeeae5",
   "metadata": {},
   "outputs": [
    {
     "data": {
      "text/plain": [
       "6"
      ]
     },
     "execution_count": 71,
     "metadata": {},
     "output_type": "execute_result"
    }
   ],
   "source": [
    "sum(list1) #menambahkan semua angka yang ada di list"
   ]
  },
  {
   "cell_type": "code",
   "execution_count": 72,
   "id": "b2932ba3-08d1-4a8a-80ad-f01f6b65976d",
   "metadata": {},
   "outputs": [
    {
     "data": {
      "text/plain": [
       "6"
      ]
     },
     "execution_count": 72,
     "metadata": {},
     "output_type": "execute_result"
    }
   ],
   "source": [
    "np.sum(list1)"
   ]
  },
  {
   "cell_type": "markdown",
   "id": "d0d0f5d0-5dc6-4e6b-a19b-0f565c760dd7",
   "metadata": {},
   "source": [
    "Pakai cara Python (`sum()`) untuk python datatype\n",
    "dan pakai (`np.sum()`) untuk numpy array"
   ]
  },
  {
   "cell_type": "markdown",
   "id": "e83b4ce8-7866-40ae-9ca5-b6699ef45877",
   "metadata": {},
   "source": [
    "Pakai np karena bisa saaaangat cepat karena numpy itu bahasa C"
   ]
  },
  {
   "cell_type": "code",
   "execution_count": 75,
   "id": "c6de43ee-5659-4a9a-8b7b-f4d0b5e24f44",
   "metadata": {},
   "outputs": [],
   "source": [
    "besar = np.random.random(999999)"
   ]
  },
  {
   "cell_type": "code",
   "execution_count": 76,
   "id": "3fb174c9-bfd2-451c-adcd-b1dc38c8d9d9",
   "metadata": {},
   "outputs": [
    {
     "name": "stdout",
     "output_type": "stream",
     "text": [
      "49.7 ms ± 920 µs per loop (mean ± std. dev. of 7 runs, 10 loops each)\n",
      "150 µs ± 952 ns per loop (mean ± std. dev. of 7 runs, 10,000 loops each)\n"
     ]
    }
   ],
   "source": [
    "#Benchmark untuk adu cepat summing pakai Pure Python vs Numpy\n",
    "%timeit sum(besar)\n",
    "%timeit np.sum(besar)"
   ]
  },
  {
   "cell_type": "code",
   "execution_count": 79,
   "id": "88a7e674-9450-4389-b0fc-f6027567cba9",
   "metadata": {},
   "outputs": [
    {
     "data": {
      "text/plain": [
       "array([[1, 2, 3],\n",
       "       [4, 5, 6]])"
      ]
     },
     "execution_count": 79,
     "metadata": {},
     "output_type": "execute_result"
    }
   ],
   "source": [
    "a2"
   ]
  },
  {
   "cell_type": "code",
   "execution_count": 78,
   "id": "fc882535-44f9-4c5f-b711-37680c9e6255",
   "metadata": {},
   "outputs": [
    {
     "data": {
      "text/plain": [
       "6"
      ]
     },
     "execution_count": 78,
     "metadata": {},
     "output_type": "execute_result"
    }
   ],
   "source": [
    "np.max(a2) #atau .min"
   ]
  },
  {
   "cell_type": "markdown",
   "id": "7a04880e-4ef8-4c6c-9637-657b243e1b81",
   "metadata": {
    "jp-MarkdownHeadingCollapsed": true
   },
   "source": [
    "### Standard Deviations dan Variance"
   ]
  },
  {
   "cell_type": "code",
   "execution_count": 86,
   "id": "470479f4-8c4e-45e1-8b62-ae14cbb9f079",
   "metadata": {},
   "outputs": [
    {
     "data": {
      "text/plain": [
       "1.707825127659933"
      ]
     },
     "execution_count": 86,
     "metadata": {},
     "output_type": "execute_result"
    }
   ],
   "source": [
    "np.std(a2) #Deviasi adalah bagaimana mmengukur seberapa tersebarnya sekelompok\n",
    "#angka dari rata ratanya"
   ]
  },
  {
   "cell_type": "code",
   "execution_count": 84,
   "id": "45c3249c-33ac-40dc-8c15-a44fe1b104a9",
   "metadata": {},
   "outputs": [
    {
     "data": {
      "text/plain": [
       "2.9166666666666665"
      ]
     },
     "execution_count": 84,
     "metadata": {},
     "output_type": "execute_result"
    }
   ],
   "source": [
    "np.var(a2) #Variance = varians mengukur seberapa jauh setiap angka dalam himpunan tersebut dari mean (\n",
    "#rata-rata), dan juga dari setiap angka lain dalam himpunan tersebut.\n",
    "#Varians besar = rentang antar angka besar , varians kecil = rentang antara angka kecil"
   ]
  },
  {
   "cell_type": "code",
   "execution_count": 87,
   "id": "f4216960-f48c-44e0-960b-533fc8f2a4db",
   "metadata": {},
   "outputs": [
    {
     "data": {
      "text/plain": [
       "(325185411.25, 8.0)"
      ]
     },
     "execution_count": 87,
     "metadata": {},
     "output_type": "execute_result"
    }
   ],
   "source": [
    "contoh_var_tinggi = np.array([1, 100, 500, 2000, 10000, 50000])\n",
    "contoh_var_rendah = np.array([2, 4, 6, 8, 10])\n",
    "np.var(contoh_var_tinggi) , np.var(contoh_var_rendah)"
   ]
  },
  {
   "cell_type": "code",
   "execution_count": 89,
   "id": "6b58d765-df60-475f-8d40-c36660495c62",
   "metadata": {},
   "outputs": [
    {
     "data": {
      "text/plain": [
       "(18032.89802693954, 2.8284271247461903)"
      ]
     },
     "execution_count": 89,
     "metadata": {},
     "output_type": "execute_result"
    }
   ],
   "source": [
    "np.std(contoh_var_tinggi), np.std(contoh_var_rendah)"
   ]
  },
  {
   "cell_type": "code",
   "execution_count": 92,
   "id": "5fb01953-9d1a-4995-bf77-1f2566d3a7d5",
   "metadata": {},
   "outputs": [
    {
     "data": {
      "text/plain": [
       "<function matplotlib.pyplot.show(close=None, block=None)>"
      ]
     },
     "execution_count": 92,
     "metadata": {},
     "output_type": "execute_result"
    },
    {
     "data": {
      "image/png": "[encoded data removed]",
      "text/plain": [
       "<Figure size 640x480 with 1 Axes>"
      ]
     },
     "metadata": {},
     "output_type": "display_data"
    }
   ],
   "source": [
    "%matplotlib inline\n",
    "import matplotlib.pyplot as plt\n",
    "plt.hist(contoh_var_tinggi)\n",
    "plt.show"
   ]
  },
  {
   "cell_type": "code",
   "execution_count": 93,
   "id": "3ea43f15-6543-42fc-82e1-6ac17856b789",
   "metadata": {},
   "outputs": [
    {
     "data": {
      "text/plain": [
       "<function matplotlib.pyplot.show(close=None, block=None)>"
      ]
     },
     "execution_count": 93,
     "metadata": {},
     "output_type": "execute_result"
    },
    {
     "data": {
      "image/png": "[encoded data removed]",
      "text/plain": [
       "<Figure size 640x480 with 1 Axes>"
      ]
     },
     "metadata": {},
     "output_type": "display_data"
    }
   ],
   "source": [
    "plt.hist(contoh_var_rendah)\n",
    "plt.show"
   ]
  },
  {
   "cell_type": "markdown",
   "id": "034f2ca3-d0ec-454e-bf66-907aaf4a092e",
   "metadata": {
    "jp-MarkdownHeadingCollapsed": true
   },
   "source": [
    "## Reshape dan transpose"
   ]
  },
  {
   "cell_type": "code",
   "execution_count": 94,
   "id": "113857ac-b1c4-4f59-8ecf-30559a2d6d97",
   "metadata": {},
   "outputs": [
    {
     "data": {
      "text/plain": [
       "array([[1, 2, 3],\n",
       "       [4, 5, 6]])"
      ]
     },
     "execution_count": 94,
     "metadata": {},
     "output_type": "execute_result"
    }
   ],
   "source": [
    "a2"
   ]
  },
  {
   "cell_type": "code",
   "execution_count": 95,
   "id": "7e7bb9df-8902-4a4f-9b5d-9e03e13e4a56",
   "metadata": {},
   "outputs": [
    {
     "data": {
      "text/plain": [
       "(2, 3)"
      ]
     },
     "execution_count": 95,
     "metadata": {},
     "output_type": "execute_result"
    }
   ],
   "source": [
    "a2.shape"
   ]
  },
  {
   "cell_type": "code",
   "execution_count": 96,
   "id": "f9cec6cf-4134-4abe-b476-a86fee0fb4ed",
   "metadata": {},
   "outputs": [
    {
     "name": "stdout",
     "output_type": "stream",
     "text": [
      "Makannya kita perlu reshape !\n"
     ]
    }
   ],
   "source": [
    "try:\n",
    "    a2*a3\n",
    "except ValueError:\n",
    "    print(\"Makannya kita perlu reshape !\")"
   ]
  },
  {
   "cell_type": "code",
   "execution_count": 99,
   "id": "6ce8d705-41d3-49d4-bd51-9244267f98f1",
   "metadata": {},
   "outputs": [
    {
     "data": {
      "text/plain": [
       "array([[[1],\n",
       "        [2],\n",
       "        [3]],\n",
       "\n",
       "       [[4],\n",
       "        [5],\n",
       "        [6]]])"
      ]
     },
     "execution_count": 99,
     "metadata": {},
     "output_type": "execute_result"
    }
   ],
   "source": [
    "a2r = a2.reshape(2,3,1)\n",
    "a2r"
   ]
  },
  {
   "cell_type": "code",
   "execution_count": 100,
   "id": "bbf3321b-4c5a-4fbd-983a-24596547e1b7",
   "metadata": {},
   "outputs": [
    {
     "data": {
      "text/plain": [
       "(2, 3, 1)"
      ]
     },
     "execution_count": 100,
     "metadata": {},
     "output_type": "execute_result"
    }
   ],
   "source": [
    "a2r.shape"
   ]
  },
  {
   "cell_type": "code",
   "execution_count": 102,
   "id": "52119c56-71d7-4b04-83d2-4b84366c6f88",
   "metadata": {},
   "outputs": [
    {
     "data": {
      "text/plain": [
       "array([[[  1,   2,   3],\n",
       "        [  8,  10,  12],\n",
       "        [ 21,  24,  27]],\n",
       "\n",
       "       [[ 36,  40,  44],\n",
       "        [ 60,  65,  70],\n",
       "        [ 96, 102, 108]]])"
      ]
     },
     "execution_count": 102,
     "metadata": {},
     "output_type": "execute_result"
    }
   ],
   "source": [
    "a2r * a3 #Shape berbeda tapi isinya harus dipastikan sama"
   ]
  },
  {
   "cell_type": "code",
   "execution_count": 105,
   "id": "7d247f82-381d-489b-a4fd-c73c408a3392",
   "metadata": {},
   "outputs": [
    {
     "data": {
      "text/plain": [
       "array([[1, 2, 3],\n",
       "       [4, 5, 6]])"
      ]
     },
     "execution_count": 105,
     "metadata": {},
     "output_type": "execute_result"
    }
   ],
   "source": [
    "a2"
   ]
  },
  {
   "cell_type": "code",
   "execution_count": 104,
   "id": "a84afa97-ceb2-4bad-af7b-5f27db3bca43",
   "metadata": {},
   "outputs": [
    {
     "data": {
      "text/plain": [
       "array([[1, 4],\n",
       "       [2, 5],\n",
       "       [3, 6]])"
      ]
     },
     "execution_count": 104,
     "metadata": {},
     "output_type": "execute_result"
    }
   ],
   "source": [
    "#Transpose\n",
    "a2.T"
   ]
  },
  {
   "cell_type": "code",
   "execution_count": 106,
   "id": "f12956cb-093c-4c51-8055-a7e7a1c48ce8",
   "metadata": {},
   "outputs": [
    {
     "data": {
      "text/plain": [
       "array([[[ 1,  2,  3],\n",
       "        [ 4,  5,  6],\n",
       "        [ 7,  8,  9]],\n",
       "\n",
       "       [[ 9, 10, 11],\n",
       "        [12, 13, 14],\n",
       "        [16, 17, 18]]])"
      ]
     },
     "execution_count": 106,
     "metadata": {},
     "output_type": "execute_result"
    }
   ],
   "source": [
    "a3"
   ]
  },
  {
   "cell_type": "code",
   "execution_count": 107,
   "id": "f5ccdd3e-3108-4949-ba7d-c05084ce3319",
   "metadata": {},
   "outputs": [
    {
     "data": {
      "text/plain": [
       "array([[[ 1,  9],\n",
       "        [ 4, 12],\n",
       "        [ 7, 16]],\n",
       "\n",
       "       [[ 2, 10],\n",
       "        [ 5, 13],\n",
       "        [ 8, 17]],\n",
       "\n",
       "       [[ 3, 11],\n",
       "        [ 6, 14],\n",
       "        [ 9, 18]]])"
      ]
     },
     "execution_count": 107,
     "metadata": {},
     "output_type": "execute_result"
    }
   ],
   "source": [
    "a3.T"
   ]
  },
  {
   "cell_type": "markdown",
   "id": "a402381b-597b-4940-9d74-5ee9ba2b8aff",
   "metadata": {
    "jp-MarkdownHeadingCollapsed": true
   },
   "source": [
    "## Dot Product"
   ]
  },
  {
   "cell_type": "code",
   "execution_count": 108,
   "id": "16bd0209-3b9c-4a80-859d-deba137d7f2a",
   "metadata": {},
   "outputs": [],
   "source": [
    "np.random.seed(0)\n",
    "\n",
    "m1 = np.random.randint(10, size=(5,3))\n",
    "m2 = np.random.randint(10, size=(5,3))"
   ]
  },
  {
   "cell_type": "code",
   "execution_count": 110,
   "id": "11c39010-2ed1-4445-ba8c-eb49f23351a9",
   "metadata": {},
   "outputs": [
    {
     "data": {
      "text/plain": [
       "array([[5, 0, 3],\n",
       "       [3, 7, 9],\n",
       "       [3, 5, 2],\n",
       "       [4, 7, 6],\n",
       "       [8, 8, 1]])"
      ]
     },
     "execution_count": 110,
     "metadata": {},
     "output_type": "execute_result"
    }
   ],
   "source": [
    "m1"
   ]
  },
  {
   "cell_type": "code",
   "execution_count": 111,
   "id": "95669730-13ce-42b0-8a3a-53353a0deca2",
   "metadata": {},
   "outputs": [
    {
     "data": {
      "text/plain": [
       "array([[6, 7, 7],\n",
       "       [8, 1, 5],\n",
       "       [9, 8, 9],\n",
       "       [4, 3, 0],\n",
       "       [3, 5, 0]])"
      ]
     },
     "execution_count": 111,
     "metadata": {},
     "output_type": "execute_result"
    }
   ],
   "source": [
    "m2"
   ]
  },
  {
   "cell_type": "code",
   "execution_count": 115,
   "id": "1c23b943-af15-44b1-b233-36bd5abd7a03",
   "metadata": {},
   "outputs": [
    {
     "data": {
      "text/plain": [
       "array([[30,  0, 21],\n",
       "       [24,  7, 45],\n",
       "       [27, 40, 18],\n",
       "       [16, 21,  0],\n",
       "       [24, 40,  0]])"
      ]
     },
     "execution_count": 115,
     "metadata": {},
     "output_type": "execute_result"
    }
   ],
   "source": [
    "m1 * m2 #Ini element wise multiplication (Bukan perkalian matriks, cuma ngejodohin koordinat sama)"
   ]
  },
  {
   "cell_type": "code",
   "execution_count": 116,
   "id": "5df98391-1b96-4a22-8e18-d01277927e6c",
   "metadata": {},
   "outputs": [
    {
     "name": "stdout",
     "output_type": "stream",
     "text": [
      "shapes (5,3) and (5,3) not aligned: 3 (dim 1) != 5 (dim 0)\n"
     ]
    }
   ],
   "source": [
    "try:\n",
    "    np.dot(m1,m2)\n",
    "except ValueError:\n",
    "    print(\"shapes (5,3) and (5,3) not aligned: 3 (dim 1) != 5 (dim 0)\")"
   ]
  },
  {
   "cell_type": "code",
   "execution_count": 120,
   "id": "78b21d23-aae3-4fd9-b4c2-1a6df197df10",
   "metadata": {},
   "outputs": [
    {
     "data": {
      "text/plain": [
       "array([[ 51,  55,  72,  20,  15],\n",
       "       [130,  76, 164,  33,  44],\n",
       "       [ 67,  39,  85,  27,  34],\n",
       "       [115,  69, 146,  37,  47],\n",
       "       [111,  77, 145,  56,  64]])"
      ]
     },
     "execution_count": 120,
     "metadata": {},
     "output_type": "execute_result"
    }
   ],
   "source": [
    "# Perkalian dot product harus shapenya sama, jadi salah satu harus di transpose\n",
    "mat3 = np.dot(m1, m2.T)\n",
    "mat3"
   ]
  },
  {
   "cell_type": "code",
   "execution_count": 121,
   "id": "d4fe9959-bd32-4021-a93a-97fad7e3a42e",
   "metadata": {},
   "outputs": [
    {
     "data": {
      "text/plain": [
       "(5, 5)"
      ]
     },
     "execution_count": 121,
     "metadata": {},
     "output_type": "execute_result"
    }
   ],
   "source": [
    "mat3.shape"
   ]
  },
  {
   "cell_type": "markdown",
   "id": "ca4ba133-58cf-40ae-a3cf-bb8bf4c3c1d7",
   "metadata": {
    "jp-MarkdownHeadingCollapsed": true
   },
   "source": [
    "## Aplikasi"
   ]
  },
  {
   "cell_type": "code",
   "execution_count": 11,
   "id": "d65ee0ec-a08f-4f76-9a76-139806a2e107",
   "metadata": {},
   "outputs": [
    {
     "data": {
      "text/plain": [
       "array([[12, 15,  0,  3],\n",
       "       [ 3,  7,  9, 19],\n",
       "       [18,  4,  6, 12],\n",
       "       [ 1,  6,  7, 14],\n",
       "       [17,  5, 13,  8]])"
      ]
     },
     "execution_count": 11,
     "metadata": {},
     "output_type": "execute_result"
    }
   ],
   "source": [
    "np.random.seed(0)\n",
    "arak_sales = np.random.randint(20, size=(5,4))\n",
    "arak_sales"
   ]
  },
  {
   "cell_type": "code",
   "execution_count": 12,
   "id": "aeee2693-95d7-4edf-9168-0d803388811f",
   "metadata": {},
   "outputs": [
    {
     "data": {
      "text/html": [
       "<div>\n",
       "<style scoped>\n",
       "    .dataframe tbody tr th:only-of-type {\n",
       "        vertical-align: middle;\n",
       "    }\n",
       "\n",
       "    .dataframe tbody tr th {\n",
       "        vertical-align: top;\n",
       "    }\n",
       "\n",
       "    .dataframe thead th {\n",
       "        text-align: right;\n",
       "    }\n",
       "</style>\n",
       "<table border=\"1\" class=\"dataframe\">\n",
       "  <thead>\n",
       "    <tr style=\"text-align: right;\">\n",
       "      <th></th>\n",
       "      <th>Singaraja</th>\n",
       "      <th>Api</th>\n",
       "      <th>Cocktail</th>\n",
       "      <th>Gula Pasir</th>\n",
       "    </tr>\n",
       "  </thead>\n",
       "  <tbody>\n",
       "    <tr>\n",
       "      <th>Sen</th>\n",
       "      <td>12</td>\n",
       "      <td>15</td>\n",
       "      <td>0</td>\n",
       "      <td>3</td>\n",
       "    </tr>\n",
       "    <tr>\n",
       "      <th>Sel</th>\n",
       "      <td>3</td>\n",
       "      <td>7</td>\n",
       "      <td>9</td>\n",
       "      <td>19</td>\n",
       "    </tr>\n",
       "    <tr>\n",
       "      <th>Rab</th>\n",
       "      <td>18</td>\n",
       "      <td>4</td>\n",
       "      <td>6</td>\n",
       "      <td>12</td>\n",
       "    </tr>\n",
       "    <tr>\n",
       "      <th>Kam</th>\n",
       "      <td>1</td>\n",
       "      <td>6</td>\n",
       "      <td>7</td>\n",
       "      <td>14</td>\n",
       "    </tr>\n",
       "    <tr>\n",
       "      <th>Jum</th>\n",
       "      <td>17</td>\n",
       "      <td>5</td>\n",
       "      <td>13</td>\n",
       "      <td>8</td>\n",
       "    </tr>\n",
       "  </tbody>\n",
       "</table>\n",
       "</div>"
      ],
      "text/plain": [
       "     Singaraja  Api  Cocktail  Gula Pasir\n",
       "Sen         12   15         0           3\n",
       "Sel          3    7         9          19\n",
       "Rab         18    4         6          12\n",
       "Kam          1    6         7          14\n",
       "Jum         17    5        13           8"
      ]
     },
     "execution_count": 12,
     "metadata": {},
     "output_type": "execute_result"
    }
   ],
   "source": [
    "import pandas as pd\n",
    "arak_df = pd.DataFrame(arak_sales, index = (\"Sen\", \"Sel\", \"Rab\", \"Kam\", \"Jum\"),\n",
    "                       columns = (\"Singaraja\", \"Api\", \"Cocktail\", \"Gula Pasir\"))\n",
    "arak_df"
   ]
  },
  {
   "cell_type": "code",
   "execution_count": 19,
   "id": "226c6373-ec36-45c9-ac97-4aa2a7940ce8",
   "metadata": {},
   "outputs": [
    {
     "data": {
      "text/plain": [
       "(4,)"
      ]
     },
     "execution_count": 19,
     "metadata": {},
     "output_type": "execute_result"
    }
   ],
   "source": [
    "harga = np.array([25,30,40,20])\n",
    "\n",
    "harga.shape"
   ]
  },
  {
   "cell_type": "code",
   "execution_count": 28,
   "id": "f873938d-f703-469e-bbfd-a9d0fa4b2af2",
   "metadata": {},
   "outputs": [
    {
     "data": {
      "text/plain": [
       "(4,)"
      ]
     },
     "execution_count": 28,
     "metadata": {},
     "output_type": "execute_result"
    }
   ],
   "source": []
  },
  {
   "cell_type": "code",
   "execution_count": 29,
   "id": "a4c34c1f-ff93-4b1c-b8ef-16df16793f8e",
   "metadata": {},
   "outputs": [
    {
     "data": {
      "text/html": [
       "<div>\n",
       "<style scoped>\n",
       "    .dataframe tbody tr th:only-of-type {\n",
       "        vertical-align: middle;\n",
       "    }\n",
       "\n",
       "    .dataframe tbody tr th {\n",
       "        vertical-align: top;\n",
       "    }\n",
       "\n",
       "    .dataframe thead th {\n",
       "        text-align: right;\n",
       "    }\n",
       "</style>\n",
       "<table border=\"1\" class=\"dataframe\">\n",
       "  <thead>\n",
       "    <tr style=\"text-align: right;\">\n",
       "      <th></th>\n",
       "      <th>Singaraja</th>\n",
       "      <th>Api</th>\n",
       "      <th>Cocktail</th>\n",
       "      <th>Gula Pasir</th>\n",
       "    </tr>\n",
       "  </thead>\n",
       "  <tbody>\n",
       "    <tr>\n",
       "      <th>Harga</th>\n",
       "      <td>25</td>\n",
       "      <td>30</td>\n",
       "      <td>40</td>\n",
       "      <td>20</td>\n",
       "    </tr>\n",
       "  </tbody>\n",
       "</table>\n",
       "</div>"
      ],
      "text/plain": [
       "       Singaraja  Api  Cocktail  Gula Pasir\n",
       "Harga         25   30        40          20"
      ]
     },
     "execution_count": 29,
     "metadata": {},
     "output_type": "execute_result"
    }
   ],
   "source": [
    "import pandas as pd\n",
    "harga_arak = pd.DataFrame(harga.reshape(1,4),\n",
    "                         index = [\"Harga\"],\n",
    "                         columns = (\"Singaraja\", \"Api\", \"Cocktail\", \"Gula Pasir\"))\n",
    "harga_arak"
   ]
  },
  {
   "cell_type": "code",
   "execution_count": 30,
   "id": "a2724579-f1b9-4ec9-a15c-083e078d755c",
   "metadata": {},
   "outputs": [
    {
     "data": {
      "text/html": [
       "<div>\n",
       "<style scoped>\n",
       "    .dataframe tbody tr th:only-of-type {\n",
       "        vertical-align: middle;\n",
       "    }\n",
       "\n",
       "    .dataframe tbody tr th {\n",
       "        vertical-align: top;\n",
       "    }\n",
       "\n",
       "    .dataframe thead th {\n",
       "        text-align: right;\n",
       "    }\n",
       "</style>\n",
       "<table border=\"1\" class=\"dataframe\">\n",
       "  <thead>\n",
       "    <tr style=\"text-align: right;\">\n",
       "      <th></th>\n",
       "      <th>Harga</th>\n",
       "    </tr>\n",
       "  </thead>\n",
       "  <tbody>\n",
       "    <tr>\n",
       "      <th>Singaraja</th>\n",
       "      <td>25</td>\n",
       "    </tr>\n",
       "    <tr>\n",
       "      <th>Api</th>\n",
       "      <td>30</td>\n",
       "    </tr>\n",
       "    <tr>\n",
       "      <th>Cocktail</th>\n",
       "      <td>40</td>\n",
       "    </tr>\n",
       "    <tr>\n",
       "      <th>Gula Pasir</th>\n",
       "      <td>20</td>\n",
       "    </tr>\n",
       "  </tbody>\n",
       "</table>\n",
       "</div>"
      ],
      "text/plain": [
       "            Harga\n",
       "Singaraja      25\n",
       "Api            30\n",
       "Cocktail       40\n",
       "Gula Pasir     20"
      ]
     },
     "execution_count": 30,
     "metadata": {},
     "output_type": "execute_result"
    }
   ],
   "source": [
    "harga_arak.T"
   ]
  },
  {
   "cell_type": "code",
   "execution_count": 35,
   "id": "81289081-b7a7-48c0-bf6d-b3f07b21ca3d",
   "metadata": {},
   "outputs": [
    {
     "data": {
      "text/plain": [
       "array([[ 810],\n",
       "       [1025],\n",
       "       [1050],\n",
       "       [ 765],\n",
       "       [1255]])"
      ]
     },
     "execution_count": 35,
     "metadata": {},
     "output_type": "execute_result"
    }
   ],
   "source": [
    "pendapatan = np.dot(arak_df,harga_arak.T)\n",
    "pendapatan"
   ]
  },
  {
   "cell_type": "code",
   "execution_count": 36,
   "id": "f558134d-2525-4bac-bef7-9fd7d81347d7",
   "metadata": {},
   "outputs": [
    {
     "data": {
      "text/plain": [
       "4905"
      ]
     },
     "execution_count": 36,
     "metadata": {},
     "output_type": "execute_result"
    }
   ],
   "source": [
    "np.sum(pendapatan)"
   ]
  },
  {
   "cell_type": "code",
   "execution_count": 89,
   "id": "3fdeec83-fd58-4e11-900c-4f7326d15442",
   "metadata": {},
   "outputs": [
    {
     "name": "stdout",
     "output_type": "stream",
     "text": [
      "Sudah dimasukkan kolomnya\n"
     ]
    }
   ],
   "source": [
    "try:\n",
    "    arak_df.insert(4, \"Pendapatan Harian\",pendapatan)\n",
    "except ValueError:\n",
    "    print(\"Sudah dimasukkan kolomnya\")"
   ]
  },
  {
   "cell_type": "code",
   "execution_count": 42,
   "id": "cc181d47-a923-483f-a452-ad971455dd95",
   "metadata": {},
   "outputs": [
    {
     "data": {
      "text/html": [
       "<div>\n",
       "<style scoped>\n",
       "    .dataframe tbody tr th:only-of-type {\n",
       "        vertical-align: middle;\n",
       "    }\n",
       "\n",
       "    .dataframe tbody tr th {\n",
       "        vertical-align: top;\n",
       "    }\n",
       "\n",
       "    .dataframe thead th {\n",
       "        text-align: right;\n",
       "    }\n",
       "</style>\n",
       "<table border=\"1\" class=\"dataframe\">\n",
       "  <thead>\n",
       "    <tr style=\"text-align: right;\">\n",
       "      <th></th>\n",
       "      <th>Singaraja</th>\n",
       "      <th>Api</th>\n",
       "      <th>Cocktail</th>\n",
       "      <th>Gula Pasir</th>\n",
       "      <th>Pendapatan Harian</th>\n",
       "    </tr>\n",
       "  </thead>\n",
       "  <tbody>\n",
       "    <tr>\n",
       "      <th>Sen</th>\n",
       "      <td>12</td>\n",
       "      <td>15</td>\n",
       "      <td>0</td>\n",
       "      <td>3</td>\n",
       "      <td>810</td>\n",
       "    </tr>\n",
       "    <tr>\n",
       "      <th>Sel</th>\n",
       "      <td>3</td>\n",
       "      <td>7</td>\n",
       "      <td>9</td>\n",
       "      <td>19</td>\n",
       "      <td>1025</td>\n",
       "    </tr>\n",
       "    <tr>\n",
       "      <th>Rab</th>\n",
       "      <td>18</td>\n",
       "      <td>4</td>\n",
       "      <td>6</td>\n",
       "      <td>12</td>\n",
       "      <td>1050</td>\n",
       "    </tr>\n",
       "    <tr>\n",
       "      <th>Kam</th>\n",
       "      <td>1</td>\n",
       "      <td>6</td>\n",
       "      <td>7</td>\n",
       "      <td>14</td>\n",
       "      <td>765</td>\n",
       "    </tr>\n",
       "    <tr>\n",
       "      <th>Jum</th>\n",
       "      <td>17</td>\n",
       "      <td>5</td>\n",
       "      <td>13</td>\n",
       "      <td>8</td>\n",
       "      <td>1255</td>\n",
       "    </tr>\n",
       "  </tbody>\n",
       "</table>\n",
       "</div>"
      ],
      "text/plain": [
       "     Singaraja  Api  Cocktail  Gula Pasir  Pendapatan Harian\n",
       "Sen         12   15         0           3                810\n",
       "Sel          3    7         9          19               1025\n",
       "Rab         18    4         6          12               1050\n",
       "Kam          1    6         7          14                765\n",
       "Jum         17    5        13           8               1255"
      ]
     },
     "execution_count": 42,
     "metadata": {},
     "output_type": "execute_result"
    }
   ],
   "source": [
    "arak_df"
   ]
  },
  {
   "cell_type": "code",
   "execution_count": 86,
   "id": "2e2f4343-fd9f-4c37-915b-b8d5a7307785",
   "metadata": {},
   "outputs": [],
   "source": [
    "\n",
    "arak_total = pd.DataFrame([ sum(arak_df[\"Singaraja\"]) , sum(arak_df[\"Api\"]) , sum(arak_df[\"Cocktail\"]) ,\n",
    "                               sum(arak_df[\"Gula Pasir\"]),sum(arak_df[\"Pendapatan Harian\"])] , columns = [\"Total\"],\n",
    "                         index=(\"Singaraja\", \"Api\", \"Cocktail\", \"Gula Pasir\",\"Pendapatan Harian\"))"
   ]
  },
  {
   "cell_type": "code",
   "execution_count": 87,
   "id": "791d6c1f-ac6f-49c0-92fb-791a0b50611c",
   "metadata": {},
   "outputs": [
    {
     "data": {
      "text/html": [
       "<div>\n",
       "<style scoped>\n",
       "    .dataframe tbody tr th:only-of-type {\n",
       "        vertical-align: middle;\n",
       "    }\n",
       "\n",
       "    .dataframe tbody tr th {\n",
       "        vertical-align: top;\n",
       "    }\n",
       "\n",
       "    .dataframe thead th {\n",
       "        text-align: right;\n",
       "    }\n",
       "</style>\n",
       "<table border=\"1\" class=\"dataframe\">\n",
       "  <thead>\n",
       "    <tr style=\"text-align: right;\">\n",
       "      <th></th>\n",
       "      <th>Singaraja</th>\n",
       "      <th>Api</th>\n",
       "      <th>Cocktail</th>\n",
       "      <th>Gula Pasir</th>\n",
       "      <th>Pendapatan Harian</th>\n",
       "    </tr>\n",
       "  </thead>\n",
       "  <tbody>\n",
       "    <tr>\n",
       "      <th>Total</th>\n",
       "      <td>51</td>\n",
       "      <td>37</td>\n",
       "      <td>35</td>\n",
       "      <td>56</td>\n",
       "      <td>4905</td>\n",
       "    </tr>\n",
       "  </tbody>\n",
       "</table>\n",
       "</div>"
      ],
      "text/plain": [
       "       Singaraja  Api  Cocktail  Gula Pasir  Pendapatan Harian\n",
       "Total         51   37        35          56               4905"
      ]
     },
     "execution_count": 87,
     "metadata": {},
     "output_type": "execute_result"
    }
   ],
   "source": [
    "arak_total.T"
   ]
  },
  {
   "cell_type": "code",
   "execution_count": null,
   "id": "556aa054-44da-41bd-9e0d-c9737d14b702",
   "metadata": {},
   "outputs": [],
   "source": []
  },
  {
   "cell_type": "code",
   "execution_count": 88,
   "id": "53bdb508-8939-4bd0-bab7-5b57aac40433",
   "metadata": {},
   "outputs": [
    {
     "data": {
      "text/html": [
       "<div>\n",
       "<style scoped>\n",
       "    .dataframe tbody tr th:only-of-type {\n",
       "        vertical-align: middle;\n",
       "    }\n",
       "\n",
       "    .dataframe tbody tr th {\n",
       "        vertical-align: top;\n",
       "    }\n",
       "\n",
       "    .dataframe thead th {\n",
       "        text-align: right;\n",
       "    }\n",
       "</style>\n",
       "<table border=\"1\" class=\"dataframe\">\n",
       "  <thead>\n",
       "    <tr style=\"text-align: right;\">\n",
       "      <th></th>\n",
       "      <th>Singaraja</th>\n",
       "      <th>Api</th>\n",
       "      <th>Cocktail</th>\n",
       "      <th>Gula Pasir</th>\n",
       "      <th>Pendapatan Harian</th>\n",
       "    </tr>\n",
       "  </thead>\n",
       "  <tbody>\n",
       "    <tr>\n",
       "      <th>Sen</th>\n",
       "      <td>12</td>\n",
       "      <td>15</td>\n",
       "      <td>0</td>\n",
       "      <td>3</td>\n",
       "      <td>810</td>\n",
       "    </tr>\n",
       "    <tr>\n",
       "      <th>Sel</th>\n",
       "      <td>3</td>\n",
       "      <td>7</td>\n",
       "      <td>9</td>\n",
       "      <td>19</td>\n",
       "      <td>1025</td>\n",
       "    </tr>\n",
       "    <tr>\n",
       "      <th>Rab</th>\n",
       "      <td>18</td>\n",
       "      <td>4</td>\n",
       "      <td>6</td>\n",
       "      <td>12</td>\n",
       "      <td>1050</td>\n",
       "    </tr>\n",
       "    <tr>\n",
       "      <th>Kam</th>\n",
       "      <td>1</td>\n",
       "      <td>6</td>\n",
       "      <td>7</td>\n",
       "      <td>14</td>\n",
       "      <td>765</td>\n",
       "    </tr>\n",
       "    <tr>\n",
       "      <th>Jum</th>\n",
       "      <td>17</td>\n",
       "      <td>5</td>\n",
       "      <td>13</td>\n",
       "      <td>8</td>\n",
       "      <td>1255</td>\n",
       "    </tr>\n",
       "    <tr>\n",
       "      <th>Total</th>\n",
       "      <td>51</td>\n",
       "      <td>37</td>\n",
       "      <td>35</td>\n",
       "      <td>56</td>\n",
       "      <td>4905</td>\n",
       "    </tr>\n",
       "  </tbody>\n",
       "</table>\n",
       "</div>"
      ],
      "text/plain": [
       "       Singaraja  Api  Cocktail  Gula Pasir  Pendapatan Harian\n",
       "Sen           12   15         0           3                810\n",
       "Sel            3    7         9          19               1025\n",
       "Rab           18    4         6          12               1050\n",
       "Kam            1    6         7          14                765\n",
       "Jum           17    5        13           8               1255\n",
       "Total         51   37        35          56               4905"
      ]
     },
     "execution_count": 88,
     "metadata": {},
     "output_type": "execute_result"
    }
   ],
   "source": [
    "pd.concat([arak_df,arak_total.T]) #Menggabungkan DF (Ingat harus sama index nya kalau enggak bakal ke kanan)"
   ]
  },
  {
   "cell_type": "code",
   "execution_count": null,
   "id": "5d11b114-b789-4243-8925-d67b62ee3f03",
   "metadata": {},
   "outputs": [],
   "source": []
  },
  {
   "cell_type": "code",
   "execution_count": null,
   "id": "4b2ce231-9360-4e77-b544-27f2c175364f",
   "metadata": {},
   "outputs": [],
   "source": []
  }
 ],
 "metadata": {
  "kernelspec": {
   "display_name": "Python 3 (ipykernel)",
   "language": "python",
   "name": "python3"
  },
  "language_info": {
   "codemirror_mode": {
    "name": "ipython",
    "version": 3
   },
   "file_extension": ".py",
   "mimetype": "text/x-python",
   "name": "python",
   "nbconvert_exporter": "python",
   "pygments_lexer": "ipython3",
   "version": "3.11.9"
  }
 },
 "nbformat": 4,
 "nbformat_minor": 5
}
